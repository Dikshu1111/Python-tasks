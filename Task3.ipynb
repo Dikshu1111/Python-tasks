{
 "cells": [
  {
   "cell_type": "markdown",
   "id": "e7726c14-3f83-41f1-bcfd-8de235dabfcd",
   "metadata": {},
   "source": [
    "Name : Diksha Shravan Patil                                     \n",
    "Branch : Computer Engg. (CO)                                              \n",
    "Task 03"
   ]
  },
  {
   "cell_type": "code",
   "execution_count": 1,
   "id": "72df80e2-67fb-490e-9626-666f29ca7f6a",
   "metadata": {},
   "outputs": [],
   "source": [
    "import numpy as dikshu"
   ]
  },
  {
   "cell_type": "code",
   "execution_count": 41,
   "id": "26dd816f-2f2b-4243-8294-90311d1e38b4",
   "metadata": {},
   "outputs": [],
   "source": [
    " # 1 array()\n",
    "arr = dikshu.array([1,2,3,4,5])"
   ]
  },
  {
   "cell_type": "code",
   "execution_count": 21,
   "id": "add15851-8138-489d-ab4b-6f2b0721929d",
   "metadata": {},
   "outputs": [
    {
     "data": {
      "text/plain": [
       "array([1, 2, 3, 4, 5])"
      ]
     },
     "execution_count": 21,
     "metadata": {},
     "output_type": "execute_result"
    }
   ],
   "source": [
    "arr "
   ]
  },
  {
   "cell_type": "code",
   "execution_count": 42,
   "id": "21108652-f256-46fe-a82b-f26cc7248f19",
   "metadata": {},
   "outputs": [],
   "source": [
    "# 2 block()\n",
    "a = dikshu.array([[1, 2], [3, 4]])\n",
    "b = dikshu.array([[5, 6]])\n",
    "c = dikshu.block([[a], [b]]) # block()\n",
    "\n"
   ]
  },
  {
   "cell_type": "code",
   "execution_count": 10,
   "id": "902e61db-20eb-4fa1-a970-4f6ebd6e16a0",
   "metadata": {},
   "outputs": [
    {
     "data": {
      "text/plain": [
       "array([[1, 2],\n",
       "       [3, 4],\n",
       "       [5, 6]])"
      ]
     },
     "execution_count": 10,
     "metadata": {},
     "output_type": "execute_result"
    }
   ],
   "source": [
    "c"
   ]
  },
  {
   "cell_type": "code",
   "execution_count": 43,
   "id": "8ebaf0a0-3d37-466e-81e5-d69f9bd5a203",
   "metadata": {},
   "outputs": [],
   "source": [
    "#3 cross()\n",
    "a = dikshu.array([1, 0, 0])\n",
    "b = dikshu.array([0, 1, 0])\n",
    "c = dikshu.cross(a, b)\n"
   ]
  },
  {
   "cell_type": "code",
   "execution_count": 12,
   "id": "1a413147-5571-4579-869e-a8c06a2878f9",
   "metadata": {},
   "outputs": [
    {
     "data": {
      "text/plain": [
       "array([0, 0, 1])"
      ]
     },
     "execution_count": 12,
     "metadata": {},
     "output_type": "execute_result"
    }
   ],
   "source": [
    "c"
   ]
  },
  {
   "cell_type": "code",
   "execution_count": 44,
   "id": "772243df-27df-4eb2-acf9-70734ab1881b",
   "metadata": {},
   "outputs": [],
   "source": [
    "#4  bool_()\n",
    "x = dikshu.bool_(5)\n",
    "\n"
   ]
  },
  {
   "cell_type": "code",
   "execution_count": 19,
   "id": "a0298cab-c65a-4700-aa98-05ab196d3823",
   "metadata": {},
   "outputs": [
    {
     "data": {
      "text/plain": [
       "np.True_"
      ]
     },
     "execution_count": 19,
     "metadata": {},
     "output_type": "execute_result"
    }
   ],
   "source": [
    "x\n"
   ]
  },
  {
   "cell_type": "code",
   "execution_count": 45,
   "id": "2bb2cda9-81dd-4212-ab33-1f3c5464e08d",
   "metadata": {},
   "outputs": [],
   "source": [
    "# 5 choose()\n",
    "choices = [dikshu.array([10, 20, 30]), dikshu.array([40, 50, 60])]\n",
    "index_array = dikshu.array([0, 1, 0])\n",
    "res = dikshu.choose(index_array, choices)\n"
   ]
  },
  {
   "cell_type": "code",
   "execution_count": 23,
   "id": "1a5568c8-5aa6-4ae3-b2c4-fe05ed4b6f6b",
   "metadata": {},
   "outputs": [
    {
     "data": {
      "text/plain": [
       "array([10, 50, 30])"
      ]
     },
     "execution_count": 23,
     "metadata": {},
     "output_type": "execute_result"
    }
   ],
   "source": [
    "res"
   ]
  },
  {
   "cell_type": "code",
   "execution_count": 46,
   "id": "fbae4733-f5e0-45cc-90ea-11645166e088",
   "metadata": {},
   "outputs": [],
   "source": [
    "#6  clip()\n",
    "a = dikshu.array([1, 5, 10, 15])\n",
    "b = dikshu.clip(a, 3, 12)\n"
   ]
  },
  {
   "cell_type": "code",
   "execution_count": 25,
   "id": "2c7bce69-31a5-42bb-b4f6-6cbdb28bac10",
   "metadata": {},
   "outputs": [
    {
     "data": {
      "text/plain": [
       "array([ 3,  5, 10, 12])"
      ]
     },
     "execution_count": 25,
     "metadata": {},
     "output_type": "execute_result"
    }
   ],
   "source": [
    "b"
   ]
  },
  {
   "cell_type": "code",
   "execution_count": 35,
   "id": "6e23479e-b508-4d28-a32c-424d75f1cfb6",
   "metadata": {},
   "outputs": [],
   "source": [
    "#7 cumsum()\n",
    "a = dikshu.array([1, 2, 3, 4])\n",
    "b = dikshu.cumsum(a)\n"
   ]
  },
  {
   "cell_type": "code",
   "execution_count": 27,
   "id": "41dbabb8-bbc9-4594-87d2-9074475e88bc",
   "metadata": {},
   "outputs": [
    {
     "data": {
      "text/plain": [
       "array([ 1,  3,  6, 10])"
      ]
     },
     "execution_count": 27,
     "metadata": {},
     "output_type": "execute_result"
    }
   ],
   "source": [
    "b"
   ]
  },
  {
   "cell_type": "code",
   "execution_count": 36,
   "id": "16ee916a-5500-4727-ac29-6aaa80e8fc0c",
   "metadata": {},
   "outputs": [
    {
     "data": {
      "text/plain": [
       "array([1, 1, 2, 2, 3, 3])"
      ]
     },
     "execution_count": 36,
     "metadata": {},
     "output_type": "execute_result"
    }
   ],
   "source": [
    "#8 repeat()\n",
    "a = dikshu.array([1, 2, 3])\n",
    "b = dikshu.repeat(a, 2)\n",
    "b\n"
   ]
  },
  {
   "cell_type": "code",
   "execution_count": 37,
   "id": "ee6cb9b2-4440-426c-8db4-08c0c90e4846",
   "metadata": {},
   "outputs": [
    {
     "data": {
      "text/plain": [
       "array([[1, 2, 3],\n",
       "       [4, 5, 6]])"
      ]
     },
     "execution_count": 37,
     "metadata": {},
     "output_type": "execute_result"
    }
   ],
   "source": [
    "# 9 reshape()\n",
    "a = dikshu.array([1, 2, 3, 4, 5, 6])\n",
    "b = dikshu.reshape(a, (2, 3))\n",
    "b\n"
   ]
  },
  {
   "cell_type": "code",
   "execution_count": 47,
   "id": "968f82d2-5e41-415f-a453-72f00ffa671a",
   "metadata": {},
   "outputs": [
    {
     "data": {
      "text/plain": [
       "array([1, 2, 3, 4, 5])"
      ]
     },
     "execution_count": 47,
     "metadata": {},
     "output_type": "execute_result"
    }
   ],
   "source": [
    " # 10 unique()\n",
    "a = dikshu.array([1, 2, 2, 3, 4, 4, 4, 5])\n",
    "b = dikshu.unique(a)\n",
    "b\n"
   ]
  },
  {
   "cell_type": "code",
   "execution_count": 48,
   "id": "47c9efe6-37a0-4ff2-abc8-b1dabf8a02a9",
   "metadata": {},
   "outputs": [
    {
     "data": {
      "text/plain": [
       "array([1, 2, 0])"
      ]
     },
     "execution_count": 48,
     "metadata": {},
     "output_type": "execute_result"
    }
   ],
   "source": [
    " # 11 argsort()\n",
    "a = dikshu.array([30, 10, 20])\n",
    "b = dikshu.argsort(a)\n",
    "b\n"
   ]
  },
  {
   "cell_type": "code",
   "execution_count": 53,
   "id": "2bc2096e-3c15-4bdf-8005-2bddfbbbaeee",
   "metadata": {},
   "outputs": [
    {
     "data": {
      "text/plain": [
       "np.int64(1)"
      ]
     },
     "execution_count": 53,
     "metadata": {},
     "output_type": "execute_result"
    }
   ],
   "source": [
    " # 12 argmax() \n",
    "a = dikshu.array([5, 10, 3, 8])\n",
    "max_index = dikshu.argmax(a)\n",
    "max_index"
   ]
  },
  {
   "cell_type": "code",
   "execution_count": 54,
   "id": "72251fd4-77b7-4baa-b4b0-49f45129f3a6",
   "metadata": {},
   "outputs": [
    {
     "data": {
      "text/plain": [
       "np.int64(2)"
      ]
     },
     "execution_count": 54,
     "metadata": {},
     "output_type": "execute_result"
    }
   ],
   "source": [
    "# 13 argmin()\n",
    "a = dikshu.array([5, 10, 3, 8])\n",
    "min_index = dikshu.argmin(a)\n",
    "min_index"
   ]
  },
  {
   "cell_type": "code",
   "execution_count": 55,
   "id": "e214d4e4-d3fc-46e3-b2a9-2ac3fd97f0f4",
   "metadata": {},
   "outputs": [
    {
     "data": {
      "text/plain": [
       "array([10, 20, 30,  4,  5])"
      ]
     },
     "execution_count": 55,
     "metadata": {},
     "output_type": "execute_result"
    }
   ],
   "source": [
    "#14 where()\n",
    "a = dikshu.array([1, 2, 3, 4, 5])\n",
    "b = dikshu.array([10, 20, 30, 40, 50])\n",
    "\n",
    "condition = a > 3\n",
    "result = dikshu.where(condition, a, b)\n",
    "result\n"
   ]
  },
  {
   "cell_type": "code",
   "execution_count": 57,
   "id": "132a15e4-049a-4ecf-af1a-e3de54ed6583",
   "metadata": {},
   "outputs": [
    {
     "data": {
      "text/plain": [
       "array([ 4,  5, 10, 20, 30, 40, 50])"
      ]
     },
     "execution_count": 57,
     "metadata": {},
     "output_type": "execute_result"
    }
   ],
   "source": [
    "# 15 concatenate\n",
    "a = dikshu.array([4, 5])\n",
    "b = dikshu.array([10, 20, 30, 40, 50])\n",
    "\n",
    "result = dikshu.concatenate((a, b))\n",
    "result\n"
   ]
  },
  {
   "cell_type": "code",
   "execution_count": 58,
   "id": "63718ad3-4f93-43d6-9f81-9d8f355bdaa9",
   "metadata": {},
   "outputs": [
    {
     "data": {
      "text/plain": [
       "array([1, 2, 3, 4, 5])"
      ]
     },
     "execution_count": 58,
     "metadata": {},
     "output_type": "execute_result"
    }
   ],
   "source": [
    "# 16 sort()\n",
    "a = dikshu.array([3, 1, 2, 5, 4])\n",
    "b = dikshu.sort(a)\n",
    "b\n"
   ]
  },
  {
   "cell_type": "code",
   "execution_count": 59,
   "id": "4bb48080-4749-4721-bda9-78ef0733729e",
   "metadata": {},
   "outputs": [
    {
     "data": {
      "text/plain": [
       "array([2, 3, 5, 7, 9])"
      ]
     },
     "execution_count": 59,
     "metadata": {},
     "output_type": "execute_result"
    }
   ],
   "source": [
    "#17 partition() \n",
    "a = dikshu.array([7, 2, 5, 3, 9])\n",
    "b = dikshu.partition(a, 3)\n",
    "b\n"
   ]
  },
  {
   "cell_type": "code",
   "execution_count": 60,
   "id": "939adbf3-f051-4e58-8957-a3d89a308a52",
   "metadata": {},
   "outputs": [
    {
     "data": {
      "text/plain": [
       "array([3, 4])"
      ]
     },
     "execution_count": 60,
     "metadata": {},
     "output_type": "execute_result"
    }
   ],
   "source": [
    "# 18 intersect1d()\n",
    "a = dikshu.array([1, 2, 3, 4])\n",
    "b = dikshu.array([3, 4, 5, 6])\n",
    "c = dikshu.intersect1d(a, b)\n",
    "c\n"
   ]
  },
  {
   "cell_type": "code",
   "execution_count": 61,
   "id": "555a81e1-d2d7-4a2a-a127-c56ce1abea0d",
   "metadata": {},
   "outputs": [
    {
     "data": {
      "text/plain": [
       "array([5, 4, 3, 2, 1])"
      ]
     },
     "execution_count": 61,
     "metadata": {},
     "output_type": "execute_result"
    }
   ],
   "source": [
    "#19 flip()\n",
    "a = dikshu.array([1, 2, 3, 4, 5])\n",
    "b = dikshu.flip(a)\n",
    "b\n"
   ]
  },
  {
   "cell_type": "code",
   "execution_count": 62,
   "id": "4da5317a-49d8-4d3f-b27c-7e827e65e321",
   "metadata": {},
   "outputs": [
    {
     "data": {
      "text/plain": [
       "np.int64(15)"
      ]
     },
     "execution_count": 62,
     "metadata": {},
     "output_type": "execute_result"
    }
   ],
   "source": [
    "#20 trace()\n",
    "a = dikshu.array([[1, 2, 3], [4, 5, 6], [7, 8, 9]])\n",
    "b = dikshu.trace(a)\n",
    "b\n"
   ]
  },
  {
   "cell_type": "code",
   "execution_count": null,
   "id": "41b1de0a-d051-439a-acf2-8027d1a580bb",
   "metadata": {},
   "outputs": [],
   "source": []
  }
 ],
 "metadata": {
  "kernelspec": {
   "display_name": "Python 3 (ipykernel)",
   "language": "python",
   "name": "python3"
  },
  "language_info": {
   "codemirror_mode": {
    "name": "ipython",
    "version": 3
   },
   "file_extension": ".py",
   "mimetype": "text/x-python",
   "name": "python",
   "nbconvert_exporter": "python",
   "pygments_lexer": "ipython3",
   "version": "3.13.5"
  }
 },
 "nbformat": 4,
 "nbformat_minor": 5
}
